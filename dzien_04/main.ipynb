{
 "cells": [
  {
   "cell_type": "code",
   "execution_count": 1,
   "metadata": {},
   "outputs": [],
   "source": [
    "# pip install requests\n",
    "\n",
    "import requests\n"
   ]
  },
  {
   "cell_type": "code",
   "execution_count": 2,
   "metadata": {},
   "outputs": [
    {
     "data": {
      "text/plain": [
       "<Response [200]>"
      ]
     },
     "execution_count": 2,
     "metadata": {},
     "output_type": "execute_result"
    }
   ],
   "source": [
    "\n",
    "requests.get(\"https://google.com\")"
   ]
  },
  {
   "cell_type": "code",
   "execution_count": 1,
   "metadata": {},
   "outputs": [
    {
     "name": "stdout",
     "output_type": "stream",
     "text": [
      " Volume in drive C is OS\n",
      " Volume Serial Number is 889C-56B7\n",
      "\n",
      " Directory of c:\\Users\\lemur\\Desktop\\szkolenie\\kod\\szkolenie_python_2024-03-25\\dzien_04\n",
      "\n",
      "28.03.2024  16:22    <DIR>          .\n",
      "29.03.2024  09:08    <DIR>          ..\n",
      "28.03.2024  14:18               118 config_db.yaml\n",
      "28.03.2024  14:19               119 db_config.yaml\n",
      "28.03.2024  16:22            24�576 lokalna_baza.sqlite\n",
      "29.03.2024  09:22             1�100 main.ipynb\n",
      "28.03.2024  16:30            13�462 main.py\n",
      "28.03.2024  15:23               191 players.csv\n",
      "28.03.2024  15:05             1�159 sqlite.py\n",
      "28.03.2024  15:14    <DIR>          tools\n",
      "28.03.2024  11:52             2�155 usd.csv\n",
      "28.03.2024  10:45               185 waluty.yaml\n",
      "               9 File(s)         43�065 bytes\n",
      "               3 Dir(s)  289�412�665�344 bytes free\n"
     ]
    }
   ],
   "source": [
    "!dir"
   ]
  },
  {
   "cell_type": "code",
   "execution_count": 2,
   "metadata": {},
   "outputs": [
    {
     "name": "stdout",
     "output_type": "stream",
     "text": [
      "Requirement already satisfied: flask in c:\\python310\\lib\\site-packages (3.0.0)\n",
      "Requirement already satisfied: Werkzeug>=3.0.0 in c:\\python310\\lib\\site-packages (from flask) (3.0.1)\n",
      "Requirement already satisfied: Jinja2>=3.1.2 in c:\\python310\\lib\\site-packages (from flask) (3.1.2)\n",
      "Requirement already satisfied: itsdangerous>=2.1.2 in c:\\python310\\lib\\site-packages (from flask) (2.1.2)\n",
      "Requirement already satisfied: click>=8.1.3 in c:\\python310\\lib\\site-packages (from flask) (8.1.7)\n",
      "Requirement already satisfied: blinker>=1.6.2 in c:\\python310\\lib\\site-packages (from flask) (1.6.3)\n",
      "Requirement already satisfied: colorama in c:\\python310\\lib\\site-packages (from click>=8.1.3->flask) (0.4.5)\n",
      "Requirement already satisfied: MarkupSafe>=2.0 in c:\\python310\\lib\\site-packages (from Jinja2>=3.1.2->flask) (2.1.1)\n"
     ]
    }
   ],
   "source": [
    "!pip install flask"
   ]
  },
  {
   "cell_type": "code",
   "execution_count": null,
   "metadata": {},
   "outputs": [],
   "source": []
  }
 ],
 "metadata": {
  "kernelspec": {
   "display_name": "Python 3",
   "language": "python",
   "name": "python3"
  },
  "language_info": {
   "codemirror_mode": {
    "name": "ipython",
    "version": 3
   },
   "file_extension": ".py",
   "mimetype": "text/x-python",
   "name": "python",
   "nbconvert_exporter": "python",
   "pygments_lexer": "ipython3",
   "version": "3.10.7"
  }
 },
 "nbformat": 4,
 "nbformat_minor": 2
}
